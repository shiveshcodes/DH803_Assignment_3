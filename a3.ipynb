{
 "cells": [
  {
   "cell_type": "code",
   "execution_count": 34,
   "metadata": {},
   "outputs": [],
   "source": [
    "import pandas as pd\n",
    "import matplotlib.pyplot as plt\n",
    "%matplotlib qt\n",
    "\n",
    "\n",
    "# Load data\n",
    "data = pd.read_excel(\"data.xlsx\", header=None)  # Replace with your file path\n",
    "signal = data.iloc[1 :, 0]  # Assuming signal is in the first column\n",
    "\n",
    "# Plot signal\n",
    "plt.plot(signal)\n",
    "plt.title(\"Signal Plot\")\n",
    "plt.xlabel(\"Sample Index\")\n",
    "plt.ylabel(\"Amplitude\")\n",
    "plt.show()\n"
   ]
  },
  {
   "cell_type": "code",
   "execution_count": 31,
   "metadata": {},
   "outputs": [
    {
     "name": "stdout",
     "output_type": "stream",
     "text": [
      "Estimated Heart Rate: 82.87 bpm\n"
     ]
    }
   ],
   "source": [
    "import numpy as np\n",
    "from scipy.signal import find_peaks, butter, filtfilt\n",
    "\n",
    "def bandpass_filter(data, lowcut, highcut, fs, order=4):\n",
    "    nyquist = 0.5 * fs\n",
    "    low = lowcut / nyquist\n",
    "    high = highcut / nyquist\n",
    "    b, a = butter(order, [low, high], btype='band')\n",
    "    return filtfilt(b, a, data)\n",
    "\n",
    "ppg_signal = signal  \n",
    "fs = 50  \n",
    "filtered_signal = bandpass_filter(ppg_signal, 0.67, 4, fs)\n",
    "\n",
    "peaks, _ = find_peaks(filtered_signal, distance=fs*0.5)  # Minimum 0.5s apart\n",
    "\n",
    "intervals = np.diff(peaks) / fs  \n",
    "heart_rate = 60 / np.mean(intervals)\n",
    "\n",
    "print(f\"Estimated Heart Rate: {heart_rate:.2f} bpm\")\n"
   ]
  },
  {
   "cell_type": "code",
   "execution_count": 30,
   "metadata": {},
   "outputs": [],
   "source": [
    "plt.figure(figsize=(12,4))\n",
    "plt.plot(filtered_signal)\n",
    "plt.title(\"Signal Plot\")\n",
    "plt.xlabel(\"Sample Index\")\n",
    "plt.ylabel(\"Amplitude\")\n",
    "plt.show()"
   ]
  },
  {
   "cell_type": "code",
   "execution_count": 33,
   "metadata": {},
   "outputs": [
    {
     "name": "stdout",
     "output_type": "stream",
     "text": [
      "bpm: 86.474501\n",
      "ibi: 693.846154\n",
      "sdnn: 66.587724\n",
      "sdsd: 70.492097\n",
      "rmssd: 83.931189\n",
      "pnn20: 0.361111\n",
      "pnn50: 0.222222\n",
      "hr_mad: 20.000000\n",
      "sd1: 59.160798\n",
      "sd2: 62.858846\n",
      "s: 11682.890365\n",
      "sd1/sd2: 0.941169\n",
      "breathingrate: 0.258684\n"
     ]
    }
   ],
   "source": [
    "import heartpy as hp\n",
    "\n",
    "wd, m = hp.process(filtered_signal, 50)\n",
    "\n",
    "#plot\n",
    "plt.figure(figsize=(12,4))\n",
    "hp.plotter(wd, m)\n",
    "\n",
    "#display measures computed\n",
    "for measure in m.keys():\n",
    "    print('%s: %f' %(measure, m[measure]))"
   ]
  },
  {
   "cell_type": "code",
   "execution_count": 43,
   "metadata": {},
   "outputs": [
    {
     "name": "stdout",
     "output_type": "stream",
     "text": [
      "Estimated Respiration Rate: 7.38 bpm\n"
     ]
    }
   ],
   "source": [
    "import numpy as np\n",
    "from scipy.signal import firwin, filtfilt\n",
    "from scipy.interpolate import interp1d\n",
    "import scipy.fft as fft\n",
    "\n",
    "def preprocess_ppg(ppg_signal, sampling_rate):\n",
    "    \"\"\"Apply FIR bandpass filter to remove noise.\"\"\"\n",
    "    nyquist = 0.5 * sampling_rate\n",
    "    low_cutoff = 0.5 / nyquist\n",
    "    high_cutoff = 3.0 / nyquist\n",
    "    fir_coeff = firwin(200, [low_cutoff, high_cutoff], pass_zero=False)\n",
    "    filtered_signal = filtfilt(fir_coeff, [1.0], ppg_signal)\n",
    "    return filtered_signal\n",
    "\n",
    "def incremental_merge_segmentation(ppg_signal, segment_size):\n",
    "    \"\"\"Extract RIAV using Incremental Merge Segmentation.\"\"\"\n",
    "    slopes = []\n",
    "    line_segments = []\n",
    "    for i in range(0, len(ppg_signal) - segment_size, segment_size):\n",
    "        start = i\n",
    "        end = i + segment_size\n",
    "        slope = (ppg_signal[end - 1] - ppg_signal[start]) / segment_size\n",
    "        if not slopes or np.sign(slope) == np.sign(slopes[-1]):\n",
    "            if line_segments:\n",
    "                line_segments[-1].append(end)\n",
    "            else:\n",
    "                line_segments.append([start, end])\n",
    "            slopes.append(slope)\n",
    "        else:\n",
    "            slopes.append(slope)\n",
    "            line_segments.append([start, end])\n",
    "    return line_segments\n",
    "\n",
    "def adaptive_thresholding(line_segments, ppg_signal, amp_thresh_low=None, amp_thresh_high=None):\n",
    "    \"\"\"Apply adaptive thresholding to remove artifacts.\"\"\"\n",
    "    if amp_thresh_low is None or amp_thresh_high is None:\n",
    "        amplitudes = [np.abs(ppg_signal[seg[-1]] - ppg_signal[seg[0]]) for seg in line_segments]\n",
    "        median_amp = np.median(amplitudes)\n",
    "        amp_thresh_low = 0.5 * median_amp\n",
    "        amp_thresh_high = 1.5 * median_amp\n",
    "\n",
    "    true_lines = []\n",
    "    for seg in line_segments:\n",
    "        start, end = seg[0], seg[-1]\n",
    "        amp = np.abs(ppg_signal[end] - ppg_signal[start])\n",
    "        if amp_thresh_low < amp < amp_thresh_high:\n",
    "            true_lines.append((start, end))\n",
    "    return true_lines\n",
    "\n",
    "def extract_riav(true_lines, ppg_signal):\n",
    "    \"\"\"Extract RIAV signal from the thresholded segments.\"\"\"\n",
    "    riav_signal = [ppg_signal[end] - ppg_signal[start] for start, end in true_lines]\n",
    "    times = [end for _, end in true_lines]\n",
    "    return riav_signal, times\n",
    "\n",
    "def uniform_interval_interpolation(riav_signal, times, new_sampling_rate):\n",
    "    \"\"\"Interpolate RIAV signal to a uniform interval.\"\"\"\n",
    "    total_duration = times[-1]\n",
    "    uniform_times = np.linspace(0, total_duration, int(total_duration * new_sampling_rate))\n",
    "    interpolator = interp1d(times, riav_signal, kind='linear', fill_value=\"extrapolate\")\n",
    "    uniform_signal = interpolator(uniform_times)\n",
    "    return uniform_signal, uniform_times\n",
    "\n",
    "def estimate_respiration_rate(interpolated_signal, sampling_rate):\n",
    "    \"\"\"Estimate RR using FFT on the interpolated RIAV signal.\"\"\"\n",
    "    fft_result = np.abs(fft.fft(interpolated_signal))\n",
    "    freq = fft.fftfreq(len(interpolated_signal), d=1/sampling_rate)\n",
    "    # Only consider positive frequencies within the respiratory range\n",
    "    freq_range = (freq > 0.1) & (freq < 0.6)\n",
    "    dominant_freq = freq[freq_range][np.argmax(fft_result[freq_range])]\n",
    "    respiration_rate = dominant_freq * 60  # Convert to bpm\n",
    "    return respiration_rate\n",
    "\n",
    "# Example usage\n",
    "if __name__ == \"__main__\":\n",
    "    # Simulate a PPG signal (replace with actual data)\n",
    "    t = np.linspace(0, 10, 500)  # 10 seconds at 50 Hz\n",
    "    ppg_signal = signal  # Simulated PPG signal\n",
    "    sampling_rate = 50  # Hz\n",
    "\n",
    "    # Pipeline\n",
    "    filtered_signal = preprocess_ppg(ppg_signal, sampling_rate)\n",
    "    segments = incremental_merge_segmentation(filtered_signal, segment_size=20)\n",
    "    thresholded_lines = adaptive_thresholding(segments, filtered_signal)\n",
    "    riav_signal, times = extract_riav(thresholded_lines, filtered_signal)\n",
    "    interpolated_signal, uniform_times = uniform_interval_interpolation(riav_signal, times, new_sampling_rate=10)\n",
    "    rr = estimate_respiration_rate(interpolated_signal, sampling_rate=10)\n",
    "\n",
    "    print(f\"Estimated Respiration Rate: {rr:.2f} bpm\")\n"
   ]
  }
 ],
 "metadata": {
  "kernelspec": {
   "display_name": "base",
   "language": "python",
   "name": "python3"
  },
  "language_info": {
   "codemirror_mode": {
    "name": "ipython",
    "version": 3
   },
   "file_extension": ".py",
   "mimetype": "text/x-python",
   "name": "python",
   "nbconvert_exporter": "python",
   "pygments_lexer": "ipython3",
   "version": "3.12.2"
  }
 },
 "nbformat": 4,
 "nbformat_minor": 2
}
